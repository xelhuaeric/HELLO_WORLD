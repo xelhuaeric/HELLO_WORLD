{
  "nbformat": 4,
  "nbformat_minor": 0,
  "metadata": {
    "colab": {
      "name": "Untitled0.ipynb",
      "provenance": [],
      "mount_file_id": "1N9nB5Zxl8z-AgdlFVZ4z3zNBM9TByxBX",
      "authorship_tag": "ABX9TyMWeX4VYIJi03oe61XfbjXB",
      "include_colab_link": true
    },
    "kernelspec": {
      "name": "python3",
      "display_name": "Python 3"
    },
    "language_info": {
      "name": "python"
    }
  },
  "cells": [
    {
      "cell_type": "markdown",
      "metadata": {
        "id": "view-in-github",
        "colab_type": "text"
      },
      "source": [
        "<a href=\"https://colab.research.google.com/github/xelhuaeric/HELLO_WORLD/blob/main/Fisic_part01.ipynb\" target=\"_parent\"><img src=\"https://colab.research.google.com/assets/colab-badge.svg\" alt=\"Open In Colab\"/></a>"
      ]
    },
    {
      "cell_type": "code",
      "metadata": {
        "colab": {
          "base_uri": "https://localhost:8080/",
          "height": 54
        },
        "id": "aUv9sKpFGXiq",
        "outputId": "4700080d-9879-4e07-bb8a-eb028f59a4ce"
      },
      "source": [
        "import pandas as pd\n",
        "import numpy as np\n",
        "import matplotlib.pyplot as plt\n",
        "from scipy.stats import norm\n",
        "\n",
        "events = pd.read_csv('/content/drive/MyDrive/Datos/eventos_pxpypzE.csv')\n",
        "events.head()\n",
        "\n",
        "data = np.genfromtxt('/content/drive/MyDrive/Datos/eventos_pxpypzE.csv', delimiter=\", \", names=[\"px\",\"py\",\"pz\",\"E\"])\n",
        "#plt.plot(data['px'], data['py'])\n",
        "#plt.hist(data['px'])\n",
        "#Momento transverso\n",
        "plt.hist(np.sqrt(data['px']*data['px'] + data['py']*data['py']))\n",
        "#momento\n",
        "plt.hist(np.sqrt(data['px']*data['px'] + data['py']*data['py'] + data['pz']*data['pz']))\n",
        "plt.show()"
      ],
      "execution_count": null,
      "outputs": [
        {
          "output_type": "display_data",
          "data": {
            "image/png": "[encoded data removed]",
            "text/plain": [
              "<Figure size 432x288 with 1 Axes>"
            ]
          },
          "metadata": {
            "needs_background": "light"
          }
        }
      ]
    }
  ]
}